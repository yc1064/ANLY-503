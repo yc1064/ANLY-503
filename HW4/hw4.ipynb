{
 "cells": [
  {
   "cell_type": "markdown",
   "metadata": {},
   "source": [
    "This assignment is about understanding the ECO dataset and using it to create interactive and animated visualizations that help explore and analyze household electricity consumption and appliance-level consumption patterns.\n",
    "\n",
    "## Data\n",
    "\n",
    "The Electricity Consumption and Occupancy (ECO) dataset contains power consumption data for three households at both the overall household level (smart meters) and the appliance level (plugs). The dataset covers various appliances like fridge, freezer, microwave, coffee machine, kettle, stereo, laptop, entertainment systems, and other devices. The smart meter data contains 16 columns with various power-related measurements, while the plug data provides appliance-level consumption. The data is organized into daily CSV files spanning from June 27, 2012, to January 31, 2013.\n",
    "\n",
    "The most relevant portions of the dataset for our questions will be the 'powerallphases' variable from the smart meter data, which represents the total power consumed over all power phases in the household, and the plug data, which will help us analyze individual appliance consumption patterns.\n",
    "\n",
    "## Data-science Questions\n",
    "\n",
    "+ How does the overall power consumption of a household vary over time, and can we identify any patterns or trends in the data (e.g., daily or weekly cycles, seasonal variations)?  \n",
    "Visualization 1 will display a time-series plot of the overall power consumption for each household. This visualization will help us identify any patterns or trends in the data and enable users to interactively explore consumption over different time frames.\n",
    "\n",
    "+ What is the contribution of each appliance to the total power consumption of a household? Can we identify any high-consumption appliances that could be targeted for energy efficiency improvements?  \n",
    "Visualization 2 will display a stacked bar chart or pie chart showing the proportion of total power consumption attributed to each appliance for each household. This visualization will help us understand the contribution of each appliance to the overall consumption and identify high-consumption appliances for potential energy efficiency improvements.\n",
    "\n",
    "By creating these visualizations, we aim to understand the patterns of household electricity consumption and the role of individual appliances in overall power usage. The interactive nature of the visualizations will allow users to explore the data and gain insights that could be used to inform energy-saving strategies or policies.\n",
    "\n",
    "## Data preparation and EDA\n",
    "\n",
    "In this section, we'll prepare the data for analysis and create some initial exploratory visualizations. First, we need to load and preprocess the data by combining daily CSV files, converting units, and aggregating the data as required. Then, we'll perform some exploratory data analysis (EDA) to understand the data and inform our later visualizations. The whole implementation can be divided into the following steps:\n",
    "\n",
    "### 1. Load the necessary libraries and define helper functions:"
   ]
  },
  {
   "cell_type": "markdown",
   "metadata": {},
   "source": [
    "I noticed that the entire data set is very large, and it takes a long time to run the program, so I added a variable called `time_point`, and I only read all the data before that date. If you want to use the full dataset, you can change the time point to 2013-01-23 by ``` time_point = '2013-01-23' ```"
   ]
  },
  {
   "cell_type": "code",
   "execution_count": 8,
   "metadata": {},
   "outputs": [],
   "source": [
    "global time_point\n",
    "time_point = '2012-07-01'"
   ]
  },
  {
   "cell_type": "code",
   "execution_count": 9,
   "metadata": {},
   "outputs": [],
   "source": [
    "import os\n",
    "import pandas as pd\n",
    "import numpy as np\n",
    "import plotly.express as px\n",
    "import plotly.graph_objs as go\n",
    "from plotly.subplots import make_subplots\n",
    "\n",
    "# Helper function to load data\n",
    "def load_data(folder_path):\n",
    "    data = []\n",
    "    for file in sorted(os.listdir(folder_path)):\n",
    "        if file.endswith(\".csv\"):\n",
    "            file_path = os.path.join(folder_path, file)\n",
    "            df = pd.read_csv(file_path, header=None)\n",
    "            df['date'] = pd.to_datetime(file[:-4])\n",
    "            data.append(df)\n",
    "    combined_data = pd.concat(data, ignore_index=True)\n",
    "    combined_data = combined_data[combined_data['date'] < time_point]\n",
    "    return combined_data\n"
   ]
  },
  {
   "cell_type": "markdown",
   "metadata": {},
   "source": [
    "### 2. Load and preprocess the smart meter data"
   ]
  },
  {
   "cell_type": "code",
   "execution_count": 10,
   "metadata": {},
   "outputs": [],
   "source": [
    "# Load smart meter data for each household\n",
    "sm_data_04 = load_data(\"eco/04_sm_csv\")\n",
    "sm_data_05 = load_data(\"eco/05_sm_csv\")\n",
    "sm_data_06 = load_data(\"eco/06_sm_csv\")\n",
    "\n",
    "# Rename columns and convert power consumption to kWh\n",
    "for sm_data in [sm_data_04, sm_data_05, sm_data_06]:\n",
    "    sm_data.columns = ['powerallphases', 'powerphase1', 'powerphase2', 'powerphase3', 'voltagephase1', 'voltagephase2', 'voltagephase3', 'currentphase1', 'currentphase2', 'currentphase3', 'pfphase1', 'pfphase2', 'pfphase3', 'freq', 'extra_col1', 'extra_col2', 'date']\n",
    "    sm_data['powerallphases'] = sm_data['powerallphases'] / (3600 * 1000)  # Convert to kWh"
   ]
  },
  {
   "cell_type": "markdown",
   "metadata": {},
   "source": [
    "### 3. Load and preprocess the plug data\n",
    "\n",
    "In order to ensure the consistency of the data format, I deleted the `2012-06-25 15.50.57.csv` file under `\\04_plugs_csv\\08`."
   ]
  },
  {
   "cell_type": "code",
   "execution_count": 12,
   "metadata": {},
   "outputs": [],
   "source": [
    "# Load plug data for each household and appliance\n",
    "plugs_data_04 = {appliance: load_data(f\"eco/04_plugs_csv/{appliance}\") for appliance in ['01', '02', '03', '04', '05', '06', '07', '08']}\n",
    "plugs_data_05 = {appliance: load_data(f\"eco/05_plugs_csv/{appliance}\") for appliance in ['01', '02', '03', '04', '05', '06', '07', '08']}\n",
    "plugs_data_06 = {appliance: load_data(f\"eco/06_plugs_csv/{appliance}\") for appliance in ['01', '02', '03', '04', '05', '06', '07']}\n",
    "\n",
    "# Convert power consumption to kWh\n",
    "for household_plugs_data in [plugs_data_04, plugs_data_05, plugs_data_06]:\n",
    "    for appliance, df in household_plugs_data.items():\n",
    "        df.columns = ['power', 'date']\n",
    "        df['power'] = df['power'] / (3600 * 1000)  # Convert to kWh"
   ]
  },
  {
   "cell_type": "code",
   "execution_count": 14,
   "metadata": {},
   "outputs": [],
   "source": [
    "# Combine the data from all three households and add a 'household' column to differentiate them\n",
    "sm_data_04['household'] = 'Household 4'\n",
    "sm_data_05['household'] = 'Household 5'\n",
    "sm_data_06['household'] = 'Household 6'\n",
    "combined_sm_data = pd.concat([sm_data_04, sm_data_05, sm_data_06])\n",
    "\n",
    "# Combine the data from all three households and add a 'household' column to differentiate them\n",
    "combined_plugs_data = pd.concat([\n",
    "    pd.concat([df.assign(appliance=appliance) for appliance, df in plugs_data_04.items()]).assign(household='Household 4'),\n",
    "    pd.concat([df.assign(appliance=appliance) for appliance, df in plugs_data_05.items()]).assign(household='Household 5'),\n",
    "    pd.concat([df.assign(appliance=appliance) for appliance, df in plugs_data_06.items()]).assign(household='Household 6')\n",
    "])"
   ]
  },
  {
   "cell_type": "markdown",
   "metadata": {},
   "source": [
    "## Results and Analysis\n",
    "\n",
    "### Rationale for design\n",
    "\n",
    "+ Visual Encodings: We chose line charts to represent overall power consumption over time for each household because they are an intuitive and effective way to show trends and patterns in time series data. For the second visualization, we could use a stacked bar chart or a heatmap to display the distribution of power consumption among different appliances. These chart types can clearly show the proportion of power consumed by each appliance and make it easy to compare between households.Alternatives we considered include scatter plots and area charts. Scatter plots could reveal more details about the data points, but they might be less effective in communicating trends in the data. Area charts can also show trends over time, but they can be harder to interpret when comparing multiple datasets.\n",
    "+ Interaction: For interactivity, we plan to use dropdown menus or sliders to allow users to switch between different households or select a specific time range for analysis. This will enable users to compare power consumption patterns between households or zoom in on specific periods of interest.An alternative to dropdown menus or sliders is providing clickable legends or other on-chart elements that allow users to interact with the data. However, dropdown menus and sliders provide a more consistent and accessible way for users to control the visualization's display.\n",
    "+ Animation: Animation can be helpful for showing changes in data over time or highlighting specific patterns in the data. For example, we could use animation to show the progression of power consumption throughout a day or to highlight peak consumption periods.An alternative to animation is to provide static visualizations that focus on specific time periods or patterns. However, animation can make the data more engaging and help users better understand the trends.\n",
    "\n",
    "### Question 1: Overall power consumption over time (Plotly)"
   ]
  },
  {
   "cell_type": "code",
   "execution_count": 6,
   "metadata": {},
   "outputs": [],
   "source": [
    "# Create a subplot with a range slider\n",
    "fig = make_subplots(specs=[[{\"secondary_y\": True}]])\n",
    "fig.add_trace(go.Scatter(x=[0, 0], y=[0, 0], name='placeholder'), secondary_y=False)\n",
    "\n",
    "# Update layout with dropdown menu and range slider\n",
    "fig.update_layout(\n",
    "    updatemenus=[\n",
    "        dict(\n",
    "            buttons=list([\n",
    "                dict(\n",
    "                    args=[{\"y\": [combined_plugs_data.loc[combined_plugs_data['household'] == household, 'power'].values],\n",
    "                           \"x\": [combined_plugs_data.loc[combined_plugs_data['household'] == household, 'date'].values],\n",
    "                           \"name\": f\"Appliance {appliance}\"},\n",
    "                          {\"title\": f\"Overall Power Consumption by Household {household}\"}],\n",
    "                    label=household,\n",
    "                    method=\"update\"\n",
    "                )\n",
    "                for household in ['Household 4', 'Household 5', 'Household 6']\n",
    "            ]),\n",
    "            direction=\"down\",\n",
    "            pad={\"r\": 10, \"t\": 10},\n",
    "            showactive=True,\n",
    "            x=0.1,\n",
    "            xanchor=\"left\",\n",
    "            y=1.1,\n",
    "            yanchor=\"top\"\n",
    "        ),\n",
    "    ],\n",
    "    xaxis=dict(\n",
    "        rangeselector=dict(\n",
    "            buttons=list([\n",
    "                dict(count=1, label=\"1d\", step=\"day\", stepmode=\"backward\"),\n",
    "                dict(count=7, label=\"1w\", step=\"day\", stepmode=\"backward\"),\n",
    "                dict(count=1, label=\"1m\", step=\"month\", stepmode=\"backward\"),\n",
    "                dict(count=6, label=\"6m\", step=\"month\", stepmode=\"backward\"),\n",
    "                dict(count=1, label=\"YTD\", step=\"year\", stepmode=\"todate\"),\n",
    "                dict(count=1, label=\"1y\", step=\"year\", stepmode=\"backward\"),\n",
    "                dict(step=\"all\")\n",
    "            ])\n",
    "        ),\n",
    "        rangeslider=dict(visible=True),\n",
    "        type=\"date\"\n",
    "    )\n",
    ")\n",
    "\n",
    "fig.show()"
   ]
  },
  {
   "cell_type": "markdown",
   "metadata": {},
   "source": [
    "The plot of plotly is too large to be displayed in the notebook, and the gererated html file is too large to be uploaded to Canvas (300+MB) when I just use the data of one week. Therefore, I paste the screenshot of the plotly plot here. In the interactuve plot, you can choose the household you want to see and the time range you want to see. The plot shows the overall power consumption of each household over time. The code is no error, you can run it to see the plot if you want.\n",
    "\n",
    "From the visual interaction diagram, we can see that each household presents an obvious periodicity. For example, taking the day as the scale, we can find that 00:00 every day is a peak of energy consumption, and taking the scale of the week, we can find that there is a peak of energy consumption every day, and the energy consumption is stable at other times except the peak. Therefore, the whole data presents obvious periodicity.\n",
    "\n",
    "### Question 2: Appliance-level power consumption (Altair)\n"
   ]
  },
  {
   "cell_type": "code",
   "execution_count": null,
   "metadata": {},
   "outputs": [],
   "source": [
    "import altair as alt\n",
    "\n",
    "# Increase the maximum data limit in Altair\n",
    "alt.data_transformers.disable_max_rows()\n",
    "\n",
    "# Calculate the total power consumption of each appliance for each household\n",
    "total_appliance_power = combined_plugs_data.groupby(['household', 'appliance']).agg({'power': 'sum'}).reset_index()\n",
    "\n",
    "# Calculate the total power consumption for each household\n",
    "total_household_power = combined_sm_data.groupby(['household']).agg({'powerallphases': 'sum'}).reset_index()\n",
    "\n",
    "# Combine the two dataframes\n",
    "total_power = total_appliance_power.merge(total_household_power, on='household')\n",
    "\n",
    "# Create a new column for the percentage contribution of each appliance\n",
    "total_power['percentage'] = total_power['power'] / total_power['powerallphases'] * 100\n",
    "\n",
    "# Create a selection for the household dropdown\n",
    "household_selection = alt.selection_single(\n",
    "    fields=['household'],\n",
    "    bind=alt.binding_select(options=['Household 4', 'Household 5', 'Household 6']),\n",
    "    name='Select',\n",
    "    init={'household': 'Household 4'}\n",
    ")\n",
    "\n",
    "# Create the bar chart\n",
    "bars = alt.Chart(total_power).mark_bar().encode(\n",
    "    x=alt.X('appliance:N', title='Appliance'),\n",
    "    y=alt.Y('percentage:Q', title='Percentage of Total Power Consumption'),\n",
    "    color=alt.Color('appliance:N', legend=alt.Legend(title='Appliance')),\n",
    "    tooltip=['appliance', 'power', 'percentage']\n",
    ").add_selection(\n",
    "    household_selection\n",
    ").transform_filter(\n",
    "    household_selection\n",
    ")\n",
    "\n",
    "bars"
   ]
  },
  {
   "cell_type": "markdown",
   "metadata": {},
   "source": [
    "From the analysis of the appliance, for household 4, the power consumption of 05 (Freezer) is far more than other appliances, close to 30%, and all others are below 5%. For household 5, the highest power consumption is 05 (Fridge), followed by 07 (PC), reaching 8% and 5% respectively. Household 6 is relatively balanced, and the highest is 05 (Entertainment).\n",
    "\n",
    "## References\n",
    "\n",
    "+ Al-Kababji A, Alsalemi A, Himeur Y, et al. Interactive visual study for residential energy consumption data[J]. Journal of Cleaner Production, 2022, 366: 132841.\n",
    "+ https://dash.plotly.com/interactive-graphing\n"
   ]
  }
 ],
 "metadata": {
  "kernelspec": {
   "display_name": "Python 3.9.13 ('base')",
   "language": "python",
   "name": "python3"
  },
  "language_info": {
   "codemirror_mode": {
    "name": "ipython",
    "version": 3
   },
   "file_extension": ".py",
   "mimetype": "text/x-python",
   "name": "python",
   "nbconvert_exporter": "python",
   "pygments_lexer": "ipython3",
   "version": "3.9.13"
  },
  "orig_nbformat": 4,
  "vscode": {
   "interpreter": {
    "hash": "ad2bdc8ecc057115af97d19610ffacc2b4e99fae6737bb82f5d7fb13d2f2c186"
   }
  }
 },
 "nbformat": 4,
 "nbformat_minor": 2
}
